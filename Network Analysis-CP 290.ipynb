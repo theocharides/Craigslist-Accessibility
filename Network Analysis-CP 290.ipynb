{
 "cells": [
  {
   "cell_type": "markdown",
   "metadata": {},
   "source": [
    "# Sample Code\n",
    "\n",
    "This code imports, merges, and analyzes one of the ~400 MPO networks for the OSM network project of CP 290. This is meant to show a brief introduction to what we will do. In order to attain the sample data, I used the following scp unix command: \"scp cy290e@169.229.154.119:/home/cy290e/osm/mpo26196800/edges.csv /Users/briangoggin/Dropbox\"."
   ]
  },
  {
   "cell_type": "code",
   "execution_count": 1,
   "metadata": {
    "collapsed": false
   },
   "outputs": [],
   "source": [
    "import pandana as pdna\n",
    "# from pandana.loaders import osm\n",
    "import pandas as pd\n",
    "from ipywidgets import FloatSlider, interact\n",
    "from IPython.core.display import display\n",
    "from urbansim.utils import misc\n",
    "import matplotlib.pyplot as plt\n",
    "import matplotlib\n",
    "from mpl_toolkits.basemap import Basemap\n",
    "\n",
    "#Set number of unique Pandana networks that will be generated in this session\n",
    "#pdna.network.reserve_num_graphs(5)\n",
    "%matplotlib inline"
   ]
  },
  {
   "cell_type": "code",
   "execution_count": 2,
   "metadata": {
    "collapsed": true
   },
   "outputs": [],
   "source": [
    "nodes = pd.read_csv(\"nodes.csv\")"
   ]
  },
  {
   "cell_type": "code",
   "execution_count": 3,
   "metadata": {
    "collapsed": false
   },
   "outputs": [
    {
     "data": {
      "text/html": [
       "<div>\n",
       "<table border=\"1\" class=\"dataframe\">\n",
       "  <thead>\n",
       "    <tr style=\"text-align: right;\">\n",
       "      <th></th>\n",
       "      <th>node_id</th>\n",
       "      <th>x</th>\n",
       "      <th>y</th>\n",
       "    </tr>\n",
       "  </thead>\n",
       "  <tbody>\n",
       "    <tr>\n",
       "      <th>0</th>\n",
       "      <td>29031598</td>\n",
       "      <td>-84.260285</td>\n",
       "      <td>42.291412</td>\n",
       "    </tr>\n",
       "    <tr>\n",
       "      <th>1</th>\n",
       "      <td>61662392</td>\n",
       "      <td>-84.138422</td>\n",
       "      <td>42.424550</td>\n",
       "    </tr>\n",
       "    <tr>\n",
       "      <th>2</th>\n",
       "      <td>61662393</td>\n",
       "      <td>-84.136126</td>\n",
       "      <td>42.424536</td>\n",
       "    </tr>\n",
       "    <tr>\n",
       "      <th>3</th>\n",
       "      <td>61662394</td>\n",
       "      <td>-84.131095</td>\n",
       "      <td>42.424541</td>\n",
       "    </tr>\n",
       "    <tr>\n",
       "      <th>4</th>\n",
       "      <td>62475075</td>\n",
       "      <td>-84.131719</td>\n",
       "      <td>42.144527</td>\n",
       "    </tr>\n",
       "  </tbody>\n",
       "</table>\n",
       "</div>"
      ],
      "text/plain": [
       "    node_id          x          y\n",
       "0  29031598 -84.260285  42.291412\n",
       "1  61662392 -84.138422  42.424550\n",
       "2  61662393 -84.136126  42.424536\n",
       "3  61662394 -84.131095  42.424541\n",
       "4  62475075 -84.131719  42.144527"
      ]
     },
     "execution_count": 3,
     "metadata": {},
     "output_type": "execute_result"
    }
   ],
   "source": [
    "nodes.head()"
   ]
  },
  {
   "cell_type": "code",
   "execution_count": 4,
   "metadata": {
    "collapsed": true
   },
   "outputs": [],
   "source": [
    "edges = pd.read_csv(\"edges.csv\")"
   ]
  },
  {
   "cell_type": "code",
   "execution_count": 5,
   "metadata": {
    "collapsed": false
   },
   "outputs": [
    {
     "data": {
      "text/html": [
       "<div>\n",
       "<table border=\"1\" class=\"dataframe\">\n",
       "  <thead>\n",
       "    <tr style=\"text-align: right;\">\n",
       "      <th></th>\n",
       "      <th>from</th>\n",
       "      <th>to</th>\n",
       "      <th>weight</th>\n",
       "      <th>edge_type</th>\n",
       "    </tr>\n",
       "  </thead>\n",
       "  <tbody>\n",
       "    <tr>\n",
       "      <th>0</th>\n",
       "      <td>184454323</td>\n",
       "      <td>184748132</td>\n",
       "      <td>1209.859502</td>\n",
       "      <td>residential</td>\n",
       "    </tr>\n",
       "    <tr>\n",
       "      <th>1</th>\n",
       "      <td>184748132</td>\n",
       "      <td>184706531</td>\n",
       "      <td>1183.057631</td>\n",
       "      <td>residential</td>\n",
       "    </tr>\n",
       "    <tr>\n",
       "      <th>2</th>\n",
       "      <td>184454323</td>\n",
       "      <td>184663673</td>\n",
       "      <td>2197.167314</td>\n",
       "      <td>tertiary</td>\n",
       "    </tr>\n",
       "    <tr>\n",
       "      <th>3</th>\n",
       "      <td>184663673</td>\n",
       "      <td>184711391</td>\n",
       "      <td>633.263790</td>\n",
       "      <td>tertiary</td>\n",
       "    </tr>\n",
       "    <tr>\n",
       "      <th>4</th>\n",
       "      <td>184711391</td>\n",
       "      <td>184711395</td>\n",
       "      <td>395.950897</td>\n",
       "      <td>tertiary</td>\n",
       "    </tr>\n",
       "  </tbody>\n",
       "</table>\n",
       "</div>"
      ],
      "text/plain": [
       "        from         to       weight    edge_type\n",
       "0  184454323  184748132  1209.859502  residential\n",
       "1  184748132  184706531  1183.057631  residential\n",
       "2  184454323  184663673  2197.167314     tertiary\n",
       "3  184663673  184711391   633.263790     tertiary\n",
       "4  184711391  184711395   395.950897     tertiary"
      ]
     },
     "execution_count": 5,
     "metadata": {},
     "output_type": "execute_result"
    }
   ],
   "source": [
    "edges.head()"
   ]
  },
  {
   "cell_type": "code",
   "execution_count": 6,
   "metadata": {
    "collapsed": false
   },
   "outputs": [
    {
     "name": "stdout",
     "output_type": "stream",
     "text": [
      "CPU times: user 1 µs, sys: 0 ns, total: 1 µs\n",
      "Wall time: 5.01 µs\n"
     ]
    }
   ],
   "source": [
    "#create the network\n",
    "%time\n",
    "transit_net = pdna.Network(nodes[\"x\"], \n",
    "                           nodes[\"y\"], \n",
    "                           edges[\"from\"], \n",
    "                           edges[\"to\"],\n",
    "                           edges[[\"weight\"]],twoway=False)"
   ]
  },
  {
   "cell_type": "code",
   "execution_count": null,
   "metadata": {
    "collapsed": true
   },
   "outputs": [],
   "source": []
  }
 ],
 "metadata": {
  "anaconda-cloud": {},
  "kernelspec": {
   "display_name": "Python [python2]",
   "language": "python",
   "name": "Python [python2]"
  },
  "language_info": {
   "codemirror_mode": {
    "name": "ipython",
    "version": 2
   },
   "file_extension": ".py",
   "mimetype": "text/x-python",
   "name": "python",
   "nbconvert_exporter": "python",
   "pygments_lexer": "ipython2",
   "version": "2.7.12"
  }
 },
 "nbformat": 4,
 "nbformat_minor": 0
}
